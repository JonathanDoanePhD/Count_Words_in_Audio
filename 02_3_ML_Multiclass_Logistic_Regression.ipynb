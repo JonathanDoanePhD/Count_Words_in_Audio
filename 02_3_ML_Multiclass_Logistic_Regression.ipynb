{
 "cells": [
  {
   "cell_type": "markdown",
   "id": "f06467cd-05c7-4449-95c0-6ef77dd16983",
   "metadata": {
    "tags": []
   },
   "source": [
    "# Machine Learning - Multiclass Logistic Regression\n"
   ]
  },
  {
   "cell_type": "markdown",
   "id": "81e09150-0730-4a0e-b311-f2be36624e9b",
   "metadata": {},
   "source": [
    "### Data source: \n",
    "\n",
    "*common-voice2 - Kaggle*\n",
    "<br>\n",
    "*https://www.kaggle.com/datasets/danielgraham1997/commonvoice2*"
   ]
  },
  {
   "cell_type": "markdown",
   "id": "fb2afd83-c72f-44cd-b93a-38c4c4dbec55",
   "metadata": {
    "tags": []
   },
   "source": [
    "## Libraries and functions"
   ]
  },
  {
   "cell_type": "code",
   "execution_count": 1,
   "id": "5af9b365-cc6b-49e1-a137-00aab77a9975",
   "metadata": {},
   "outputs": [],
   "source": [
    "from ipynb.fs.full.Imports_and_Functions import *"
   ]
  },
  {
   "cell_type": "markdown",
   "id": "db1f6267-cffa-4698-a0eb-c55c948508b2",
   "metadata": {},
   "source": [
    "## Models\n",
    "\n",
    "### 3. Multiclass Logistic Regression\n",
    "\n",
    "*https://www.kaggle.com/code/satishgunjal/multiclass-logistic-regression-using-sklearn/notebook*\n",
    "\n"
   ]
  },
  {
   "cell_type": "code",
   "execution_count": 2,
   "id": "85564572-1d4b-4584-a3ef-6adf025c4f48",
   "metadata": {},
   "outputs": [],
   "source": [
    "from sklearn import datasets\n",
    "from sklearn import model_selection\n",
    "from sklearn import linear_model\n",
    "from sklearn import metrics\n",
    "\n",
    "from itertools import combinations"
   ]
  },
  {
   "cell_type": "code",
   "execution_count": 3,
   "id": "2541cde8-7958-4ea1-9284-d2daa18010fa",
   "metadata": {},
   "outputs": [],
   "source": [
    "features = ['age_num', 'gender', 'accent', \n",
    "            'num_onsets', 'onset_stren_mean', 'dom_freq']\n",
    "cats = ['age_num', 'gender', 'accent']\n",
    "want_pred = 'median_func_num'\n",
    "\n",
    "TR_85_df = TR_df.copy()\n",
    "TR_85_df[want_pred] = gm85\n",
    "TR_85_df = TR_85_df.dropna()\n",
    "\n",
    "X = pd.get_dummies(TR_85_df[cats])#.values.reshape(-1,6)\n",
    "y = TR_85_df[want_pred]"
   ]
  },
  {
   "cell_type": "code",
   "execution_count": 4,
   "id": "97dd307e-b2fb-402c-80af-afc546011194",
   "metadata": {},
   "outputs": [
    {
     "data": {
      "text/plain": [
       "LogisticRegression(multi_class='ovr', solver='liblinear')"
      ]
     },
     "execution_count": 4,
     "metadata": {},
     "output_type": "execute_result"
    }
   ],
   "source": [
    "lm = linear_model.LogisticRegression(multi_class='ovr', solver='liblinear')\n",
    "lm.fit(X, y)"
   ]
  },
  {
   "cell_type": "code",
   "execution_count": 5,
   "id": "e9b719ff-e85a-4907-b398-26c159028f22",
   "metadata": {},
   "outputs": [
    {
     "data": {
      "text/plain": [
       "0.04952215464813206"
      ]
     },
     "execution_count": 5,
     "metadata": {},
     "output_type": "execute_result"
    }
   ],
   "source": [
    "lm.score(X,y)"
   ]
  },
  {
   "cell_type": "markdown",
   "id": "413357ee-fcc1-4274-9265-33cc61701c45",
   "metadata": {},
   "source": [
    "___\n",
    "\n",
    "## Scratch work\n"
   ]
  },
  {
   "cell_type": "code",
   "execution_count": null,
   "id": "fd7a3d0f-42d8-4717-a116-d38513947391",
   "metadata": {},
   "outputs": [],
   "source": []
  }
 ],
 "metadata": {
  "kernelspec": {
   "display_name": "Python 3 (ipykernel)",
   "language": "python",
   "name": "python3"
  },
  "language_info": {
   "codemirror_mode": {
    "name": "ipython",
    "version": 3
   },
   "file_extension": ".py",
   "mimetype": "text/x-python",
   "name": "python",
   "nbconvert_exporter": "python",
   "pygments_lexer": "ipython3",
   "version": "3.10.1"
  }
 },
 "nbformat": 4,
 "nbformat_minor": 5
}
