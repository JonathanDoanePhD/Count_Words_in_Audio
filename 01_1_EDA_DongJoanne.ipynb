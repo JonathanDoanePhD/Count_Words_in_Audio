{
 "cells": [
  {
   "cell_type": "markdown",
   "metadata": {
    "tags": []
   },
   "source": [
    "# EDA (Exploratory Data Analysis)\n",
    "\n",
    "Performed by teammate Joanne Dong.\n",
    "\n",
    "## Goal: Count spoken words in audio clips\n",
    "\n",
    "If someone speaks slow, does it make sense to count the number of spoken words by pauses?\n",
    "If someone speaks fast, does it make sense to count the number of spoken words by peaks?\n",
    "Does having an accent alter how we should count spoken words?\n",
    "Are there differences in speech fluidity between males and females?\n",
    "How about by age?\n",
    "Does the use of long words alter our count?"
   ]
  },
  {
   "cell_type": "markdown",
   "metadata": {},
   "source": [
    "# Importing the data"
   ]
  },
  {
   "cell_type": "code",
   "execution_count": 1,
   "metadata": {},
   "outputs": [
    {
     "data": {
      "text/html": [
       "<div>\n",
       "<style scoped>\n",
       "    .dataframe tbody tr th:only-of-type {\n",
       "        vertical-align: middle;\n",
       "    }\n",
       "\n",
       "    .dataframe tbody tr th {\n",
       "        vertical-align: top;\n",
       "    }\n",
       "\n",
       "    .dataframe thead th {\n",
       "        text-align: right;\n",
       "    }\n",
       "</style>\n",
       "<table border=\"1\" class=\"dataframe\">\n",
       "  <thead>\n",
       "    <tr style=\"text-align: right;\">\n",
       "      <th></th>\n",
       "      <th>path</th>\n",
       "      <th>sentence</th>\n",
       "    </tr>\n",
       "  </thead>\n",
       "  <tbody>\n",
       "    <tr>\n",
       "      <th>0</th>\n",
       "      <td>common_voice_en_10110</td>\n",
       "      <td>I really liked the film we saw last week.</td>\n",
       "    </tr>\n",
       "    <tr>\n",
       "      <th>1</th>\n",
       "      <td>common_voice_en_10153</td>\n",
       "      <td>Please put maimi yajima's song onto Operación ...</td>\n",
       "    </tr>\n",
       "    <tr>\n",
       "      <th>2</th>\n",
       "      <td>common_voice_en_101622</td>\n",
       "      <td>Three men are painting a metal wall white.</td>\n",
       "    </tr>\n",
       "    <tr>\n",
       "      <th>3</th>\n",
       "      <td>common_voice_en_10187</td>\n",
       "      <td>Though this be madness, yet there is method in it</td>\n",
       "    </tr>\n",
       "    <tr>\n",
       "      <th>4</th>\n",
       "      <td>common_voice_en_10199</td>\n",
       "      <td>As she watched, the cat washed his ears and th...</td>\n",
       "    </tr>\n",
       "  </tbody>\n",
       "</table>\n",
       "</div>"
      ],
      "text/plain": [
       "                     path                                           sentence\n",
       "0   common_voice_en_10110          I really liked the film we saw last week.\n",
       "1   common_voice_en_10153  Please put maimi yajima's song onto Operación ...\n",
       "2  common_voice_en_101622         Three men are painting a metal wall white.\n",
       "3   common_voice_en_10187  Though this be madness, yet there is method in it\n",
       "4   common_voice_en_10199  As she watched, the cat washed his ears and th..."
      ]
     },
     "execution_count": 1,
     "metadata": {},
     "output_type": "execute_result"
    }
   ],
   "source": [
    "import pandas as pd\n",
    "import numpy as np\n",
    "\n",
    "# training set\n",
    "TR_df = pd.read_table(\"commonvoice/train/train.tsv\")\n",
    "TR_df = TR_df[[\"path\",\"sentence\"]]\n",
    "\n",
    "# test set\n",
    "TE_df = pd.read_table(\"commonvoice/test/test.tsv\")\n",
    "TE_df = TE_df[[\"path\",\"sentence\"]]\n",
    "\n",
    "# validation set\n",
    "VA_df = pd.read_table(\"commonvoice/validation/validation.tsv\")\n",
    "VA_df = TE_df[[\"path\",\"sentence\"]]\n",
    "\n",
    "TR_df.head()"
   ]
  },
  {
   "cell_type": "markdown",
   "metadata": {},
   "source": [
    "## Add a column containing number of words in the sentence"
   ]
  },
  {
   "cell_type": "code",
   "execution_count": 2,
   "metadata": {},
   "outputs": [
    {
     "data": {
      "text/html": [
       "<div>\n",
       "<style scoped>\n",
       "    .dataframe tbody tr th:only-of-type {\n",
       "        vertical-align: middle;\n",
       "    }\n",
       "\n",
       "    .dataframe tbody tr th {\n",
       "        vertical-align: top;\n",
       "    }\n",
       "\n",
       "    .dataframe thead th {\n",
       "        text-align: right;\n",
       "    }\n",
       "</style>\n",
       "<table border=\"1\" class=\"dataframe\">\n",
       "  <thead>\n",
       "    <tr style=\"text-align: right;\">\n",
       "      <th></th>\n",
       "      <th>path</th>\n",
       "      <th>sentence</th>\n",
       "      <th>num_words</th>\n",
       "    </tr>\n",
       "  </thead>\n",
       "  <tbody>\n",
       "    <tr>\n",
       "      <th>0</th>\n",
       "      <td>common_voice_en_10110</td>\n",
       "      <td>I really liked the film we saw last week.</td>\n",
       "      <td>9.0</td>\n",
       "    </tr>\n",
       "    <tr>\n",
       "      <th>1</th>\n",
       "      <td>common_voice_en_10153</td>\n",
       "      <td>Please put maimi yajima's song onto Operación ...</td>\n",
       "      <td>8.0</td>\n",
       "    </tr>\n",
       "    <tr>\n",
       "      <th>2</th>\n",
       "      <td>common_voice_en_101622</td>\n",
       "      <td>Three men are painting a metal wall white.</td>\n",
       "      <td>8.0</td>\n",
       "    </tr>\n",
       "    <tr>\n",
       "      <th>3</th>\n",
       "      <td>common_voice_en_10187</td>\n",
       "      <td>Though this be madness, yet there is method in it</td>\n",
       "      <td>10.0</td>\n",
       "    </tr>\n",
       "    <tr>\n",
       "      <th>4</th>\n",
       "      <td>common_voice_en_10199</td>\n",
       "      <td>As she watched, the cat washed his ears and th...</td>\n",
       "      <td>14.0</td>\n",
       "    </tr>\n",
       "  </tbody>\n",
       "</table>\n",
       "</div>"
      ],
      "text/plain": [
       "                     path                                           sentence  \\\n",
       "0   common_voice_en_10110          I really liked the film we saw last week.   \n",
       "1   common_voice_en_10153  Please put maimi yajima's song onto Operación ...   \n",
       "2  common_voice_en_101622         Three men are painting a metal wall white.   \n",
       "3   common_voice_en_10187  Though this be madness, yet there is method in it   \n",
       "4   common_voice_en_10199  As she watched, the cat washed his ears and th...   \n",
       "\n",
       "   num_words  \n",
       "0        9.0  \n",
       "1        8.0  \n",
       "2        8.0  \n",
       "3       10.0  \n",
       "4       14.0  "
      ]
     },
     "execution_count": 2,
     "metadata": {},
     "output_type": "execute_result"
    }
   ],
   "source": [
    "def CountWordsText(in_str): # counts the number of words in a string\n",
    "    return len(in_str.split(\" \"))\n",
    "\n",
    "num_words_array = np.zeros(len(TR_df.sentence.values)) # storing number of words in an array first\n",
    "\n",
    "for i in range(len(TR_df.sentence.values)):\n",
    "    count = CountWordsText(TR_df.sentence.values[i])\n",
    "    num_words_array[i] = count\n",
    "\n",
    "num_words = pd.Series(num_words_array) # turn the array/list into a panda series\n",
    "\n",
    "TR_df['num_words']=num_words # add the panda series to the data frame\n",
    "\n",
    "TR_df.head() # check that the column was correctly added"
   ]
  },
  {
   "cell_type": "markdown",
   "metadata": {},
   "source": [
    "# Viewing the .WAV files\n",
    "\n",
    "- Documentation for scipy.io.wavfile.read: https://docs.scipy.org/doc/scipy/reference/generated/scipy.io.wavfile.read.html\n",
    "\n",
    "- Documentation for scipy.fft():\n",
    "https://docs.scipy.org/doc/scipy/tutorial/fft.html\n",
    "\n",
    "- Documentation for scipy.fftfreq():\n",
    "https://docs.scipy.org/doc/scipy/reference/generated/scipy.fft.fftfreq.html#scipy.fft.fftfreq\n",
    "\n",
    "- Useful blog post for implementing scipy.fft(), fft() vs rff(): \n",
    "https://realpython.com/python-scipy-fft/#scipyfft-vs-scipyfftpack"
   ]
  },
  {
   "cell_type": "code",
   "execution_count": 3,
   "metadata": {},
   "outputs": [],
   "source": [
    "# import stuff for .wav file analysis, plotting, and fast fourier transform\n",
    "import matplotlib.pyplot as plt\n",
    "from scipy.fft import rfft, rfftfreq\n",
    "from scipy.io import wavfile # get the api"
   ]
  },
  {
   "cell_type": "code",
   "execution_count": 4,
   "metadata": {},
   "outputs": [
    {
     "name": "stdout",
     "output_type": "stream",
     "text": [
      "The clip has a duration of 5.869s.\n"
     ]
    }
   ],
   "source": [
    "# open an audio file from the training set\n",
    "samplerate, data = wavfile.read('commonvoice/train/clips/common_voice_en_10110.wav')\n",
    "\n",
    "length = data.shape[0]/samplerate\n",
    "print(f\"The clip has a duration of {length}s.\")"
   ]
  },
  {
   "cell_type": "code",
   "execution_count": 5,
   "metadata": {},
   "outputs": [
    {
     "data": {
      "text/plain": [
       "Text(0, 0.5, 'Amplitude')"
      ]
     },
     "execution_count": 5,
     "metadata": {},
     "output_type": "execute_result"
    },
    {
     "data": {
      "image/png": "[encoded data removed]",
      "text/plain": [
       "<Figure size 432x288 with 1 Axes>"
      ]
     },
     "metadata": {
      "needs_background": "light"
     },
     "output_type": "display_data"
    }
   ],
   "source": [
    "# plotting \n",
    "time = np.linspace(0, length, data.shape[0])\n",
    "plt.plot(time, data)\n",
    "plt.xlabel('Time[s]')\n",
    "plt.ylabel('Amplitude')"
   ]
  },
  {
   "cell_type": "code",
   "execution_count": 6,
   "metadata": {},
   "outputs": [
    {
     "data": {
      "text/plain": [
       "Text(0, 0.5, 'Power')"
      ]
     },
     "execution_count": 6,
     "metadata": {},
     "output_type": "execute_result"
    },
    {
     "data": {
      "image/png": "[encoded data removed]",
      "text/plain": [
       "<Figure size 432x288 with 1 Axes>"
      ]
     },
     "metadata": {
      "needs_background": "light"
     },
     "output_type": "display_data"
    }
   ],
   "source": [
    "# now apply the Fourier transform to decompose into Fourier modes\n",
    "freqdata = rfft(data)\n",
    "timestep = length/data.shape[0]\n",
    "xf = rfftfreq(data.shape[0], d=timestep)\n",
    "\n",
    "plt.plot(xf,abs(freqdata), color='red')\n",
    "plt.xlabel('frequency [cycles/s]')\n",
    "plt.ylabel('Power')"
   ]
  },
  {
   "cell_type": "markdown",
   "metadata": {},
   "source": [
    "<br>\n",
    "\n",
    "## Repeat after normalization"
   ]
  },
  {
   "cell_type": "code",
   "execution_count": 7,
   "metadata": {
    "scrolled": true
   },
   "outputs": [],
   "source": [
    "TTV = ['train', 'test', 'validation']\n",
    "main_dir = 'commonvoice'\n",
    "data_ext = '.tsv'\n",
    "data_sep = '\\t'\n",
    "aud_ext = '.wav'\n",
    "clips = 'clips\\\\'\n",
    "\n",
    "TR_dir = main_dir + '\\\\' + TTV[0] + '\\\\'\n",
    "TE_dir = main_dir + '\\\\' + TTV[1] + '\\\\'\n",
    "VA_dir = main_dir + '\\\\' + TTV[2] + '\\\\'\n",
    "\n",
    "# Navigate directories (folders) and files.\n",
    "import os\n",
    "\n",
    "TR_dir = r\"commonvoice\\train\\clips\"\n",
    "TR_aud = os.listdir(TR_dir)\n",
    "TE_dir = r\"commonvoice\\test\\clips\"\n",
    "TE_aud = os.listdir(TE_dir)\n",
    "VA_dir = r\"commonvoice\\validation\\clips\"\n",
    "VA_aud = os.listdir(VA_dir)\n",
    "\n",
    "\n",
    "# Import the AudioSegment class for processing audio and the \n",
    "# split_on_silence function for separating out silent chunks.\n",
    "import pydub\n",
    "from pydub import AudioSegment\n",
    "from pydub.silence import split_on_silence\n",
    "\n",
    "def match_target_amplitude(aChunk, target_dBFS): # normalize audio to a target amplitude [decibels]\n",
    "    change_in_dBFS = target_dBFS - aChunk.dBFS # normalize given audio chunk\n",
    "    return aChunk.apply_gain(change_in_dBFS)\n",
    "\n",
    "testclip = AudioSegment.from_wav(TR_dir+\"\\\\\"+TR_aud[0])\n",
    "# match_target_amplitude(testclip,-15)\n",
    "\n",
    "change_in_dBFS = -15 - testclip.dBFS\n",
    "testclip = testclip.apply_gain(change_in_dBFS)"
   ]
  }
 ],
 "metadata": {
  "kernelspec": {
   "display_name": "Python 3 (ipykernel)",
   "language": "python",
   "name": "python3"
  },
  "language_info": {
   "codemirror_mode": {
    "name": "ipython",
    "version": 3
   },
   "file_extension": ".py",
   "mimetype": "text/x-python",
   "name": "python",
   "nbconvert_exporter": "python",
   "pygments_lexer": "ipython3",
   "version": "3.10.1"
  }
 },
 "nbformat": 4,
 "nbformat_minor": 4
}
